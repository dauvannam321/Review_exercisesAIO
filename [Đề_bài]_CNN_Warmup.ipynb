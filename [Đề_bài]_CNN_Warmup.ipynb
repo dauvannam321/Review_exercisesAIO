{
  "cells": [
    {
      "cell_type": "markdown",
      "metadata": {
        "id": "view-in-github",
        "colab_type": "text"
      },
      "source": [
        "<a href=\"https://colab.research.google.com/github/dauvannam321/Review_exercisesAIO/blob/main/%5B%C4%90%E1%BB%81_b%C3%A0i%5D_CNN_Warmup.ipynb\" target=\"_parent\"><img src=\"https://colab.research.google.com/assets/colab-badge.svg\" alt=\"Open In Colab\"/></a>"
      ]
    },
    {
      "cell_type": "markdown",
      "source": [
        "### Import thư viện cần thiết"
      ],
      "metadata": {
        "id": "P_4Ink_l1q95"
      },
      "id": "P_4Ink_l1q95"
    },
    {
      "cell_type": "code",
      "execution_count": 1,
      "id": "d4e45a49-974f-4f9c-8642-42e2c45aab71",
      "metadata": {
        "id": "d4e45a49-974f-4f9c-8642-42e2c45aab71"
      },
      "outputs": [],
      "source": [
        "import torch\n",
        "import torch.nn as nn\n",
        "import torch.optim as optim\n",
        "import torchvision.transforms as transforms\n",
        "from torchvision.datasets import CIFAR10\n",
        "from torch.utils.data import DataLoader\n",
        "from torchsummary import summary\n"
      ]
    },
    {
      "cell_type": "code",
      "execution_count": 2,
      "id": "42432066-6cf0-416b-961a-adb1e3217204",
      "metadata": {
        "id": "42432066-6cf0-416b-961a-adb1e3217204"
      },
      "outputs": [],
      "source": [
        "batch_size = 64"
      ]
    },
    {
      "cell_type": "markdown",
      "id": "f913360b-019e-4d69-a540-b7b5715544e1",
      "metadata": {
        "id": "f913360b-019e-4d69-a540-b7b5715544e1"
      },
      "source": [
        "## Data"
      ]
    },
    {
      "cell_type": "code",
      "execution_count": 3,
      "id": "3ad21976-2d99-49b7-b0b5-84e9ebcd371e",
      "metadata": {
        "id": "3ad21976-2d99-49b7-b0b5-84e9ebcd371e",
        "outputId": "9126fb04-ca77-423f-a4b5-09d93b7777d4",
        "colab": {
          "base_uri": "https://localhost:8080/"
        }
      },
      "outputs": [
        {
          "output_type": "stream",
          "name": "stdout",
          "text": [
            "Downloading https://www.cs.toronto.edu/~kriz/cifar-10-python.tar.gz to ./data/cifar-10-python.tar.gz\n"
          ]
        },
        {
          "output_type": "stream",
          "name": "stderr",
          "text": [
            "100%|██████████| 170498071/170498071 [00:06<00:00, 28225093.75it/s]\n"
          ]
        },
        {
          "output_type": "stream",
          "name": "stdout",
          "text": [
            "Extracting ./data/cifar-10-python.tar.gz to ./data\n",
            "Files already downloaded and verified\n"
          ]
        },
        {
          "output_type": "stream",
          "name": "stderr",
          "text": [
            "/usr/local/lib/python3.10/dist-packages/torch/utils/data/dataloader.py:558: UserWarning: This DataLoader will create 10 worker processes in total. Our suggested max number of worker in current system is 2, which is smaller than what this DataLoader is going to create. Please be aware that excessive worker creation might get DataLoader running slow or even freeze, lower the worker number to avoid potential slowness/freeze if necessary.\n",
            "  warnings.warn(_create_warning_msg(\n"
          ]
        }
      ],
      "source": [
        "train_transform = transforms.Compose(\n",
        "    [\n",
        "        transforms.RandomCrop(32, padding=2),\n",
        "        transforms.RandomHorizontalFlip(p=0.5),\n",
        "        transforms.RandomRotation(5),\n",
        "        transforms.ToTensor(),\n",
        "        transforms.Normalize([0.4914, 0.4822, 0.4465],\n",
        "                             [0.2470, 0.2435, 0.2616]),\n",
        "        transforms.RandomErasing(p=0.75,\n",
        "                                 scale=(0.01, 0.3),\n",
        "                                 ratio=(1.0, 1.0),\n",
        "                                 value=0,\n",
        "                                 inplace =True)\n",
        "    ])\n",
        "\n",
        "val_transform = transforms.Compose(\n",
        "    [\n",
        "        transforms.ToTensor(),\n",
        "        transforms.Normalize([0.4914, 0.4822, 0.4465],\n",
        "                             [0.2470, 0.2435, 0.2616])\n",
        "    ])\n",
        "\n",
        "train_set = CIFAR10(\n",
        "    root='./data',\n",
        "    train=True,\n",
        "    download=True,\n",
        "    transform=train_transform\n",
        ")\n",
        "\n",
        "val_set = CIFAR10(\n",
        "    root='./data',\n",
        "    train=False,\n",
        "    download=True,\n",
        "    transform=val_transform\n",
        ")\n",
        "\n",
        "trainloader = DataLoader(\n",
        "    train_set,\n",
        "    batch_size=batch_size,\n",
        "    shuffle=True,\n",
        "    num_workers=10\n",
        ")\n",
        "\n",
        "testloader = DataLoader(\n",
        "    val_set,\n",
        "    batch_size=batch_size,\n",
        "    shuffle=False,\n",
        "    num_workers=10\n",
        ")"
      ]
    },
    {
      "cell_type": "code",
      "execution_count": 4,
      "id": "cf229497-4b6e-443d-b330-66b6fa139fcd",
      "metadata": {
        "id": "cf229497-4b6e-443d-b330-66b6fa139fcd",
        "colab": {
          "base_uri": "https://localhost:8080/"
        },
        "outputId": "5e401281-6f36-4415-9ed4-62bad7c7f883"
      },
      "outputs": [
        {
          "output_type": "execute_result",
          "data": {
            "text/plain": [
              "<torch.utils.data.dataloader.DataLoader at 0x796bed187f70>"
            ]
          },
          "metadata": {},
          "execution_count": 4
        }
      ],
      "source": [
        "trainloader"
      ]
    },
    {
      "cell_type": "markdown",
      "id": "6ea0dde8-29e7-4096-bd15-6a5ed74655f0",
      "metadata": {
        "id": "6ea0dde8-29e7-4096-bd15-6a5ed74655f0"
      },
      "source": [
        "## Model"
      ]
    },
    {
      "cell_type": "markdown",
      "source": [
        "### VGG16 from scratch"
      ],
      "metadata": {
        "id": "VUit4IqF1zxO"
      },
      "id": "VUit4IqF1zxO"
    },
    {
      "cell_type": "code",
      "execution_count": 5,
      "id": "c8516821-d41b-42a8-9e51-ddfb8f9ec87e",
      "metadata": {
        "id": "c8516821-d41b-42a8-9e51-ddfb8f9ec87e"
      },
      "outputs": [],
      "source": [
        "### your code here\n",
        "model = nn.Sequential(\n",
        "    nn.Sequential(\n",
        "        nn.Conv2d(3, 64, kernel_size=3, stride=1, padding=1),\n",
        "        nn.ReLU(inplace=True),\n",
        "        nn.Conv2d(64, 64, kernel_size=3, stride=1, padding=1),\n",
        "        nn.ReLU(inplace=True),\n",
        "        nn.MaxPool2d(kernel_size=2, stride=2),\n",
        "        nn.Conv2d(64, 128, kernel_size=3, stride=1, padding=1),\n",
        "        nn.ReLU(inplace=True),\n",
        "        nn.Conv2d(128, 128, kernel_size=3, stride=1, padding=1),\n",
        "        nn.ReLU(inplace=True),\n",
        "        nn.MaxPool2d(kernel_size=2, stride=2),\n",
        "        nn.Conv2d(128, 256, kernel_size=3, stride=1, padding=1),\n",
        "        nn.ReLU(inplace=True),\n",
        "        nn.Conv2d(256, 256, kernel_size=3, stride=1, padding=1),\n",
        "        nn.ReLU(inplace=True),\n",
        "        nn.Conv2d(256, 256, kernel_size=3, stride=1, padding=1),\n",
        "        nn.ReLU(inplace=True),\n",
        "        nn.MaxPool2d(kernel_size=2, stride=2),\n",
        "        nn.Conv2d(256, 512, kernel_size=3, stride=1, padding=1),\n",
        "        nn.ReLU(inplace=True),\n",
        "        nn.Conv2d(512, 512, kernel_size=3, stride=1, padding=1),\n",
        "        nn.ReLU(inplace=True),\n",
        "        nn.Conv2d(512, 512, kernel_size=3, stride=1, padding=1),\n",
        "        nn.ReLU(inplace=True),\n",
        "        nn.MaxPool2d(kernel_size=2, stride=2),\n",
        "        nn.Conv2d(512, 512, kernel_size=3, stride=1, padding=1),\n",
        "        nn.ReLU(inplace=True),\n",
        "        nn.Conv2d(512, 512, kernel_size=3, stride=1, padding=1),\n",
        "        nn.ReLU(inplace=True),\n",
        "        nn.Conv2d(512, 512, kernel_size=3, stride=1, padding=1),\n",
        "        nn.ReLU(inplace=True),\n",
        "        nn.MaxPool2d(kernel_size=2, stride=2)\n",
        "    ),\n",
        "    nn.Flatten(),\n",
        "    nn.Dropout(p=0.5),\n",
        "    nn.Linear(512, 10)\n",
        ")"
      ]
    },
    {
      "cell_type": "code",
      "source": [
        "device = torch.device(\"cuda\" if torch.cuda.is_available() else \"cpu\")\n",
        "model.to(device)"
      ],
      "metadata": {
        "colab": {
          "base_uri": "https://localhost:8080/"
        },
        "id": "LeC6v8JxwPg2",
        "outputId": "4346ac73-3b12-4fa5-fde5-794b55557f01"
      },
      "id": "LeC6v8JxwPg2",
      "execution_count": 6,
      "outputs": [
        {
          "output_type": "execute_result",
          "data": {
            "text/plain": [
              "Sequential(\n",
              "  (0): Sequential(\n",
              "    (0): Conv2d(3, 64, kernel_size=(3, 3), stride=(1, 1), padding=(1, 1))\n",
              "    (1): ReLU(inplace=True)\n",
              "    (2): Conv2d(64, 64, kernel_size=(3, 3), stride=(1, 1), padding=(1, 1))\n",
              "    (3): ReLU(inplace=True)\n",
              "    (4): MaxPool2d(kernel_size=2, stride=2, padding=0, dilation=1, ceil_mode=False)\n",
              "    (5): Conv2d(64, 128, kernel_size=(3, 3), stride=(1, 1), padding=(1, 1))\n",
              "    (6): ReLU(inplace=True)\n",
              "    (7): Conv2d(128, 128, kernel_size=(3, 3), stride=(1, 1), padding=(1, 1))\n",
              "    (8): ReLU(inplace=True)\n",
              "    (9): MaxPool2d(kernel_size=2, stride=2, padding=0, dilation=1, ceil_mode=False)\n",
              "    (10): Conv2d(128, 256, kernel_size=(3, 3), stride=(1, 1), padding=(1, 1))\n",
              "    (11): ReLU(inplace=True)\n",
              "    (12): Conv2d(256, 256, kernel_size=(3, 3), stride=(1, 1), padding=(1, 1))\n",
              "    (13): ReLU(inplace=True)\n",
              "    (14): Conv2d(256, 256, kernel_size=(3, 3), stride=(1, 1), padding=(1, 1))\n",
              "    (15): ReLU(inplace=True)\n",
              "    (16): MaxPool2d(kernel_size=2, stride=2, padding=0, dilation=1, ceil_mode=False)\n",
              "    (17): Conv2d(256, 512, kernel_size=(3, 3), stride=(1, 1), padding=(1, 1))\n",
              "    (18): ReLU(inplace=True)\n",
              "    (19): Conv2d(512, 512, kernel_size=(3, 3), stride=(1, 1), padding=(1, 1))\n",
              "    (20): ReLU(inplace=True)\n",
              "    (21): Conv2d(512, 512, kernel_size=(3, 3), stride=(1, 1), padding=(1, 1))\n",
              "    (22): ReLU(inplace=True)\n",
              "    (23): MaxPool2d(kernel_size=2, stride=2, padding=0, dilation=1, ceil_mode=False)\n",
              "    (24): Conv2d(512, 512, kernel_size=(3, 3), stride=(1, 1), padding=(1, 1))\n",
              "    (25): ReLU(inplace=True)\n",
              "    (26): Conv2d(512, 512, kernel_size=(3, 3), stride=(1, 1), padding=(1, 1))\n",
              "    (27): ReLU(inplace=True)\n",
              "    (28): Conv2d(512, 512, kernel_size=(3, 3), stride=(1, 1), padding=(1, 1))\n",
              "    (29): ReLU(inplace=True)\n",
              "    (30): MaxPool2d(kernel_size=2, stride=2, padding=0, dilation=1, ceil_mode=False)\n",
              "  )\n",
              "  (1): Flatten(start_dim=1, end_dim=-1)\n",
              "  (2): Dropout(p=0.5, inplace=False)\n",
              "  (3): Linear(in_features=512, out_features=10, bias=True)\n",
              ")"
            ]
          },
          "metadata": {},
          "execution_count": 6
        }
      ]
    },
    {
      "cell_type": "code",
      "execution_count": 7,
      "id": "9b8b7cc7-f67c-4ba0-ba21-ac2ed717f674",
      "metadata": {
        "id": "9b8b7cc7-f67c-4ba0-ba21-ac2ed717f674",
        "colab": {
          "base_uri": "https://localhost:8080/"
        },
        "outputId": "f5e51786-8207-4bf9-a68e-34095931631f"
      },
      "outputs": [
        {
          "output_type": "stream",
          "name": "stdout",
          "text": [
            "----------------------------------------------------------------\n",
            "        Layer (type)               Output Shape         Param #\n",
            "================================================================\n",
            "            Conv2d-1           [-1, 64, 32, 32]           1,792\n",
            "              ReLU-2           [-1, 64, 32, 32]               0\n",
            "            Conv2d-3           [-1, 64, 32, 32]          36,928\n",
            "              ReLU-4           [-1, 64, 32, 32]               0\n",
            "         MaxPool2d-5           [-1, 64, 16, 16]               0\n",
            "            Conv2d-6          [-1, 128, 16, 16]          73,856\n",
            "              ReLU-7          [-1, 128, 16, 16]               0\n",
            "            Conv2d-8          [-1, 128, 16, 16]         147,584\n",
            "              ReLU-9          [-1, 128, 16, 16]               0\n",
            "        MaxPool2d-10            [-1, 128, 8, 8]               0\n",
            "           Conv2d-11            [-1, 256, 8, 8]         295,168\n",
            "             ReLU-12            [-1, 256, 8, 8]               0\n",
            "           Conv2d-13            [-1, 256, 8, 8]         590,080\n",
            "             ReLU-14            [-1, 256, 8, 8]               0\n",
            "           Conv2d-15            [-1, 256, 8, 8]         590,080\n",
            "             ReLU-16            [-1, 256, 8, 8]               0\n",
            "        MaxPool2d-17            [-1, 256, 4, 4]               0\n",
            "           Conv2d-18            [-1, 512, 4, 4]       1,180,160\n",
            "             ReLU-19            [-1, 512, 4, 4]               0\n",
            "           Conv2d-20            [-1, 512, 4, 4]       2,359,808\n",
            "             ReLU-21            [-1, 512, 4, 4]               0\n",
            "           Conv2d-22            [-1, 512, 4, 4]       2,359,808\n",
            "             ReLU-23            [-1, 512, 4, 4]               0\n",
            "        MaxPool2d-24            [-1, 512, 2, 2]               0\n",
            "           Conv2d-25            [-1, 512, 2, 2]       2,359,808\n",
            "             ReLU-26            [-1, 512, 2, 2]               0\n",
            "           Conv2d-27            [-1, 512, 2, 2]       2,359,808\n",
            "             ReLU-28            [-1, 512, 2, 2]               0\n",
            "           Conv2d-29            [-1, 512, 2, 2]       2,359,808\n",
            "             ReLU-30            [-1, 512, 2, 2]               0\n",
            "        MaxPool2d-31            [-1, 512, 1, 1]               0\n",
            "          Flatten-32                  [-1, 512]               0\n",
            "          Dropout-33                  [-1, 512]               0\n",
            "           Linear-34                   [-1, 10]           5,130\n",
            "================================================================\n",
            "Total params: 14,719,818\n",
            "Trainable params: 14,719,818\n",
            "Non-trainable params: 0\n",
            "----------------------------------------------------------------\n",
            "Input size (MB): 0.01\n",
            "Forward/backward pass size (MB): 4.46\n",
            "Params size (MB): 56.15\n",
            "Estimated Total Size (MB): 60.63\n",
            "----------------------------------------------------------------\n"
          ]
        }
      ],
      "source": [
        "summary(model, (3, 32, 32))"
      ]
    },
    {
      "cell_type": "markdown",
      "id": "43c7b151-a199-4e2a-8015-fdfb5f166284",
      "metadata": {
        "id": "43c7b151-a199-4e2a-8015-fdfb5f166284"
      },
      "source": [
        "# Train"
      ]
    },
    {
      "cell_type": "code",
      "execution_count": 9,
      "id": "1464e2bd-b627-475d-9941-f2a930d69a14",
      "metadata": {
        "id": "1464e2bd-b627-475d-9941-f2a930d69a14"
      },
      "outputs": [],
      "source": [
        "criterion = nn.CrossEntropyLoss() ### Your code here\n",
        "optimizer = optim.AdamW(model.parameters(), lr= 0.001, weight_decay = 0.01) ### Your code here"
      ]
    },
    {
      "cell_type": "code",
      "execution_count": 10,
      "id": "04744c84-1e6d-4bfb-8dd5-abbdc91f102e",
      "metadata": {
        "id": "04744c84-1e6d-4bfb-8dd5-abbdc91f102e"
      },
      "outputs": [],
      "source": [
        "def evaluate(model, testloader, criterion):\n",
        "    model.eval()\n",
        "    test_loss = 0.0\n",
        "    running_correct = 0\n",
        "    total = 0\n",
        "    with torch.no_grad():\n",
        "        for images, labels in testloader:\n",
        "            # Move inputs and labels to the device\n",
        "            ### Your code here\n",
        "            images, labels = images.to(device), labels.to(device)\n",
        "\n",
        "            outputs = model(images)\n",
        "            loss = criterion(outputs, labels)\n",
        "\n",
        "            test_loss += loss.item()\n",
        "            _, predicted = torch.max(outputs.data, 1)\n",
        "            running_correct += (predicted == labels).sum().item()\n",
        "            total += labels.size(0)\n",
        "\n",
        "    accuracy = 100 * running_correct / total\n",
        "    test_loss = test_loss / len(testloader)\n",
        "    return test_loss, accuracy"
      ]
    },
    {
      "cell_type": "code",
      "execution_count": 11,
      "id": "f2402591-e7f7-4bdd-8962-c029cfcd9307",
      "metadata": {
        "id": "f2402591-e7f7-4bdd-8962-c029cfcd9307"
      },
      "outputs": [],
      "source": [
        "# some parameter\n",
        "train_losses = []\n",
        "train_accuracies = []\n",
        "test_losses = []\n",
        "test_accuracies = []\n",
        "max_epoch = 100"
      ]
    },
    {
      "cell_type": "code",
      "execution_count": 12,
      "id": "190a58e1-0864-4818-a8d2-0f83212c6d13",
      "metadata": {
        "id": "190a58e1-0864-4818-a8d2-0f83212c6d13",
        "outputId": "dcd0f436-d9ee-468a-a3ff-18ea82b19490",
        "colab": {
          "base_uri": "https://localhost:8080/"
        }
      },
      "outputs": [
        {
          "output_type": "stream",
          "name": "stderr",
          "text": [
            "/usr/lib/python3.10/multiprocessing/popen_fork.py:66: RuntimeWarning: os.fork() was called. os.fork() is incompatible with multithreaded code, and JAX is multithreaded, so this will likely lead to a deadlock.\n",
            "  self.pid = os.fork()\n",
            "/usr/lib/python3.10/multiprocessing/popen_fork.py:66: RuntimeWarning: os.fork() was called. os.fork() is incompatible with multithreaded code, and JAX is multithreaded, so this will likely lead to a deadlock.\n",
            "  self.pid = os.fork()\n"
          ]
        },
        {
          "output_type": "stream",
          "name": "stdout",
          "text": [
            "Epoch [1/100], Loss: 2.0205, Accuracy: 19.83%, Test Loss: 1.8738, Test Accuracy: 25.59%\n",
            "Epoch [2/100], Loss: 1.7891, Accuracy: 29.33%, Test Loss: 1.5640, Test Accuracy: 37.01%\n",
            "Epoch [3/100], Loss: 1.5930, Accuracy: 38.14%, Test Loss: 1.4469, Test Accuracy: 44.56%\n",
            "Epoch [4/100], Loss: 1.4697, Accuracy: 44.96%, Test Loss: 1.2647, Test Accuracy: 51.97%\n",
            "Epoch [5/100], Loss: 1.3406, Accuracy: 51.10%, Test Loss: 1.2345, Test Accuracy: 55.41%\n",
            "Epoch [6/100], Loss: 1.2401, Accuracy: 55.42%, Test Loss: 1.0710, Test Accuracy: 61.76%\n",
            "Epoch [7/100], Loss: 1.1589, Accuracy: 59.09%, Test Loss: 0.9543, Test Accuracy: 66.62%\n",
            "Epoch [8/100], Loss: 1.1008, Accuracy: 61.16%, Test Loss: 0.9433, Test Accuracy: 67.04%\n",
            "Epoch [9/100], Loss: 1.0505, Accuracy: 63.18%, Test Loss: 0.8855, Test Accuracy: 70.04%\n",
            "Epoch [10/100], Loss: 1.0088, Accuracy: 64.86%, Test Loss: 0.8915, Test Accuracy: 68.88%\n",
            "Epoch [11/100], Loss: 0.9888, Accuracy: 65.38%, Test Loss: 0.8353, Test Accuracy: 71.60%\n",
            "Epoch [12/100], Loss: 0.9569, Accuracy: 66.84%, Test Loss: 0.8580, Test Accuracy: 70.83%\n",
            "Epoch [13/100], Loss: 0.9250, Accuracy: 68.54%, Test Loss: 0.7679, Test Accuracy: 73.43%\n",
            "Epoch [14/100], Loss: 0.9051, Accuracy: 68.95%, Test Loss: 0.7623, Test Accuracy: 74.09%\n",
            "Epoch [15/100], Loss: 0.8852, Accuracy: 69.93%, Test Loss: 0.7603, Test Accuracy: 74.99%\n",
            "Epoch [16/100], Loss: 0.8622, Accuracy: 70.95%, Test Loss: 0.7012, Test Accuracy: 76.83%\n",
            "Epoch [17/100], Loss: 0.8490, Accuracy: 71.17%, Test Loss: 0.7575, Test Accuracy: 75.80%\n",
            "Epoch [18/100], Loss: 0.8320, Accuracy: 71.80%, Test Loss: 0.6869, Test Accuracy: 76.77%\n",
            "Epoch [19/100], Loss: 0.8139, Accuracy: 72.57%, Test Loss: 0.6587, Test Accuracy: 78.13%\n",
            "Epoch [20/100], Loss: 0.8020, Accuracy: 72.95%, Test Loss: 0.6451, Test Accuracy: 78.40%\n",
            "Epoch [21/100], Loss: 0.7949, Accuracy: 73.16%, Test Loss: 0.6543, Test Accuracy: 78.64%\n",
            "Epoch [22/100], Loss: 0.7853, Accuracy: 73.74%, Test Loss: 0.6269, Test Accuracy: 79.75%\n",
            "Epoch [23/100], Loss: 0.7637, Accuracy: 74.29%, Test Loss: 0.6304, Test Accuracy: 79.31%\n",
            "Epoch [24/100], Loss: 0.7630, Accuracy: 74.29%, Test Loss: 0.6315, Test Accuracy: 80.04%\n",
            "Epoch [25/100], Loss: 0.7436, Accuracy: 74.96%, Test Loss: 0.5828, Test Accuracy: 80.71%\n",
            "Epoch [26/100], Loss: 0.7337, Accuracy: 75.47%, Test Loss: 0.6041, Test Accuracy: 80.44%\n",
            "Epoch [27/100], Loss: 0.7245, Accuracy: 75.66%, Test Loss: 0.6575, Test Accuracy: 78.62%\n",
            "Epoch [28/100], Loss: 0.7236, Accuracy: 75.57%, Test Loss: 0.6167, Test Accuracy: 79.84%\n",
            "Epoch [29/100], Loss: 0.7148, Accuracy: 76.01%, Test Loss: 0.6704, Test Accuracy: 80.30%\n",
            "Epoch [30/100], Loss: 0.7027, Accuracy: 76.42%, Test Loss: 0.5592, Test Accuracy: 82.01%\n",
            "Epoch [31/100], Loss: 0.6933, Accuracy: 76.87%, Test Loss: 0.5897, Test Accuracy: 80.22%\n",
            "Epoch [32/100], Loss: 0.6840, Accuracy: 77.31%, Test Loss: 0.5755, Test Accuracy: 81.17%\n",
            "Epoch [33/100], Loss: 0.6786, Accuracy: 77.40%, Test Loss: 0.6057, Test Accuracy: 80.18%\n",
            "Epoch [34/100], Loss: 0.6701, Accuracy: 77.63%, Test Loss: 0.5655, Test Accuracy: 82.06%\n",
            "Epoch [35/100], Loss: 0.6671, Accuracy: 77.78%, Test Loss: 0.5527, Test Accuracy: 82.33%\n",
            "Epoch [36/100], Loss: 0.6604, Accuracy: 78.25%, Test Loss: 0.5349, Test Accuracy: 82.63%\n",
            "Epoch [37/100], Loss: 0.6586, Accuracy: 78.23%, Test Loss: 0.6122, Test Accuracy: 80.59%\n",
            "Epoch [38/100], Loss: 0.6593, Accuracy: 78.03%, Test Loss: 0.5946, Test Accuracy: 81.52%\n",
            "Epoch [39/100], Loss: 0.6391, Accuracy: 78.66%, Test Loss: 0.5294, Test Accuracy: 82.93%\n",
            "Epoch [40/100], Loss: 0.6426, Accuracy: 78.81%, Test Loss: 0.5402, Test Accuracy: 82.49%\n",
            "Epoch [41/100], Loss: 0.6286, Accuracy: 79.19%, Test Loss: 0.5571, Test Accuracy: 82.28%\n",
            "Epoch [42/100], Loss: 0.6225, Accuracy: 79.44%, Test Loss: 0.5442, Test Accuracy: 82.78%\n",
            "Epoch [43/100], Loss: 0.6547, Accuracy: 78.72%, Test Loss: 1.6004, Test Accuracy: 45.45%\n",
            "Epoch [44/100], Loss: 0.8761, Accuracy: 70.54%, Test Loss: 0.5503, Test Accuracy: 82.33%\n",
            "Epoch [45/100], Loss: 0.6538, Accuracy: 78.18%, Test Loss: 0.5442, Test Accuracy: 82.80%\n",
            "Epoch [46/100], Loss: 0.6157, Accuracy: 79.74%, Test Loss: 0.4992, Test Accuracy: 83.28%\n",
            "Epoch [47/100], Loss: 0.5963, Accuracy: 80.19%, Test Loss: 0.5073, Test Accuracy: 83.39%\n",
            "Epoch [48/100], Loss: 0.5942, Accuracy: 80.35%, Test Loss: 0.4986, Test Accuracy: 83.67%\n",
            "Epoch [49/100], Loss: 0.7441, Accuracy: 75.15%, Test Loss: 0.6802, Test Accuracy: 77.56%\n",
            "Epoch [50/100], Loss: 0.6673, Accuracy: 77.86%, Test Loss: 0.5186, Test Accuracy: 83.18%\n",
            "Epoch [51/100], Loss: 0.5908, Accuracy: 80.42%, Test Loss: 0.5308, Test Accuracy: 83.37%\n",
            "Epoch [52/100], Loss: 0.5822, Accuracy: 80.54%, Test Loss: 0.4778, Test Accuracy: 84.67%\n",
            "Epoch [53/100], Loss: 0.5814, Accuracy: 80.71%, Test Loss: 0.4811, Test Accuracy: 84.61%\n",
            "Epoch [54/100], Loss: 0.5713, Accuracy: 81.01%, Test Loss: 0.4915, Test Accuracy: 84.52%\n",
            "Epoch [55/100], Loss: 0.6040, Accuracy: 80.06%, Test Loss: 0.6307, Test Accuracy: 79.93%\n",
            "Epoch [56/100], Loss: 0.5899, Accuracy: 80.40%, Test Loss: 0.5414, Test Accuracy: 83.36%\n",
            "Epoch [57/100], Loss: 0.5719, Accuracy: 81.08%, Test Loss: 0.4714, Test Accuracy: 85.26%\n",
            "Epoch [58/100], Loss: 0.5711, Accuracy: 81.08%, Test Loss: 0.5572, Test Accuracy: 82.02%\n",
            "Epoch [59/100], Loss: 0.5657, Accuracy: 81.13%, Test Loss: 0.5066, Test Accuracy: 83.66%\n",
            "Epoch [60/100], Loss: 0.5699, Accuracy: 81.17%, Test Loss: 0.4963, Test Accuracy: 84.54%\n",
            "Epoch [61/100], Loss: 0.5665, Accuracy: 81.24%, Test Loss: 0.4489, Test Accuracy: 85.17%\n",
            "Epoch [62/100], Loss: 0.5431, Accuracy: 81.88%, Test Loss: 0.4950, Test Accuracy: 84.31%\n",
            "Epoch [63/100], Loss: 0.5485, Accuracy: 81.96%, Test Loss: 0.4952, Test Accuracy: 84.13%\n",
            "Epoch [64/100], Loss: 0.5502, Accuracy: 81.77%, Test Loss: 0.4926, Test Accuracy: 83.52%\n",
            "Epoch [65/100], Loss: 0.5364, Accuracy: 82.15%, Test Loss: 0.5185, Test Accuracy: 83.92%\n",
            "Epoch [66/100], Loss: 0.5569, Accuracy: 81.53%, Test Loss: 0.5204, Test Accuracy: 83.82%\n",
            "Epoch [67/100], Loss: 0.6031, Accuracy: 80.07%, Test Loss: 0.5188, Test Accuracy: 84.09%\n",
            "Epoch [68/100], Loss: 0.5254, Accuracy: 82.50%, Test Loss: 0.4715, Test Accuracy: 85.39%\n",
            "Epoch [69/100], Loss: 0.5463, Accuracy: 81.99%, Test Loss: 0.4572, Test Accuracy: 85.45%\n",
            "Epoch [70/100], Loss: 0.5144, Accuracy: 83.01%, Test Loss: 0.4558, Test Accuracy: 85.49%\n",
            "Epoch [71/100], Loss: 0.5195, Accuracy: 82.75%, Test Loss: 0.4840, Test Accuracy: 85.26%\n",
            "Epoch [72/100], Loss: 0.6337, Accuracy: 79.37%, Test Loss: 0.4992, Test Accuracy: 83.72%\n",
            "Epoch [73/100], Loss: 0.5294, Accuracy: 82.57%, Test Loss: 0.5634, Test Accuracy: 81.08%\n",
            "Epoch [74/100], Loss: 0.5195, Accuracy: 82.85%, Test Loss: 0.4505, Test Accuracy: 85.33%\n",
            "Epoch [75/100], Loss: 0.5136, Accuracy: 83.02%, Test Loss: 0.4732, Test Accuracy: 84.67%\n",
            "Epoch [76/100], Loss: 0.4992, Accuracy: 83.56%, Test Loss: 0.5138, Test Accuracy: 84.78%\n",
            "Epoch [77/100], Loss: 0.5050, Accuracy: 83.46%, Test Loss: 0.5147, Test Accuracy: 83.55%\n",
            "Epoch [78/100], Loss: 0.4967, Accuracy: 83.58%, Test Loss: 0.4498, Test Accuracy: 85.78%\n",
            "Epoch [79/100], Loss: 0.4904, Accuracy: 83.70%, Test Loss: 0.4429, Test Accuracy: 85.93%\n",
            "Epoch [80/100], Loss: 0.5105, Accuracy: 83.19%, Test Loss: 0.4224, Test Accuracy: 86.11%\n",
            "Epoch [81/100], Loss: 0.4856, Accuracy: 83.98%, Test Loss: 0.4894, Test Accuracy: 85.13%\n",
            "Epoch [82/100], Loss: 0.5012, Accuracy: 83.44%, Test Loss: 0.4938, Test Accuracy: 85.44%\n",
            "Epoch [83/100], Loss: 0.4864, Accuracy: 83.93%, Test Loss: 0.4396, Test Accuracy: 86.40%\n",
            "Epoch [84/100], Loss: 0.4767, Accuracy: 84.29%, Test Loss: 0.4671, Test Accuracy: 85.65%\n",
            "Epoch [85/100], Loss: 0.4822, Accuracy: 84.13%, Test Loss: 0.4437, Test Accuracy: 86.65%\n",
            "Epoch [86/100], Loss: 0.4824, Accuracy: 84.17%, Test Loss: 0.4688, Test Accuracy: 86.14%\n",
            "Epoch [87/100], Loss: 0.4831, Accuracy: 84.11%, Test Loss: 0.4532, Test Accuracy: 86.05%\n",
            "Epoch [88/100], Loss: 0.4987, Accuracy: 83.38%, Test Loss: 0.4485, Test Accuracy: 86.09%\n",
            "Epoch [89/100], Loss: 1.2090, Accuracy: 73.36%, Test Loss: 1.4402, Test Accuracy: 47.40%\n",
            "Epoch [90/100], Loss: 1.0884, Accuracy: 63.06%, Test Loss: 0.6802, Test Accuracy: 78.42%\n",
            "Epoch [91/100], Loss: 0.7259, Accuracy: 76.01%, Test Loss: 0.5432, Test Accuracy: 82.71%\n",
            "Epoch [92/100], Loss: 0.8831, Accuracy: 72.90%, Test Loss: 2.0541, Test Accuracy: 22.10%\n",
            "Epoch [93/100], Loss: 1.2926, Accuracy: 54.46%, Test Loss: 0.7137, Test Accuracy: 76.90%\n",
            "Epoch [94/100], Loss: 0.7424, Accuracy: 75.47%, Test Loss: 0.5433, Test Accuracy: 82.96%\n",
            "Epoch [95/100], Loss: 0.6191, Accuracy: 79.72%, Test Loss: 0.4939, Test Accuracy: 84.28%\n",
            "Epoch [96/100], Loss: 0.5485, Accuracy: 82.01%, Test Loss: 0.5122, Test Accuracy: 84.52%\n",
            "Epoch [97/100], Loss: 0.5158, Accuracy: 83.30%, Test Loss: 0.4397, Test Accuracy: 86.48%\n",
            "Epoch [98/100], Loss: 0.4873, Accuracy: 83.82%, Test Loss: 0.4208, Test Accuracy: 86.84%\n",
            "Epoch [99/100], Loss: 0.7670, Accuracy: 75.16%, Test Loss: 0.6524, Test Accuracy: 78.56%\n",
            "Epoch [100/100], Loss: 0.6232, Accuracy: 79.66%, Test Loss: 0.4932, Test Accuracy: 84.35%\n"
          ]
        }
      ],
      "source": [
        "# train\n",
        "for epoch in range(max_epoch):\n",
        "    model.train()\n",
        "    running_loss = 0.0\n",
        "    running_correct = 0   # to track number of correct predictions\n",
        "    total = 0             # to track total number of samples\n",
        "\n",
        "    for i, (inputs, labels) in enumerate(trainloader, 0):\n",
        "        ### Your code here\n",
        "        inputs, labels = inputs.to(device), labels.to(device)\n",
        "\n",
        "        optimizer.zero_grad()\n",
        "\n",
        "        outputs = model(inputs)\n",
        "        loss = criterion(outputs, labels)\n",
        "\n",
        "        loss.backward()\n",
        "        optimizer.step()\n",
        "\n",
        "        running_loss += loss.item()\n",
        "        _, predicted = torch.max(outputs.data, 1)\n",
        "        running_correct += (predicted == labels).sum().item()\n",
        "        total += labels.size(0)\n",
        "\n",
        "    epoch_accuracy = 100 * running_correct / total\n",
        "    epoch_loss = running_loss / (i + 1)\n",
        "\n",
        "    test_loss, test_accuracy = evaluate(model, testloader, criterion)\n",
        "    print(f\"Epoch [{epoch + 1}/{max_epoch}], Loss: {epoch_loss:.4f}, Accuracy: {epoch_accuracy:.2f}%, Test Loss: {test_loss:.4f}, Test Accuracy: {test_accuracy:.2f}%\")\n",
        "\n",
        "    # save for plot\n",
        "    train_losses.append(epoch_loss)\n",
        "    train_accuracies.append(epoch_accuracy)\n",
        "    test_losses.append(test_loss)\n",
        "    test_accuracies.append(test_accuracy)"
      ]
    },
    {
      "cell_type": "code",
      "execution_count": null,
      "id": "cebcb439-88f2-40b6-9a17-4990ad324731",
      "metadata": {
        "id": "cebcb439-88f2-40b6-9a17-4990ad324731"
      },
      "outputs": [],
      "source": []
    },
    {
      "cell_type": "code",
      "execution_count": 13,
      "id": "DkC3_902Lgn-",
      "metadata": {
        "id": "DkC3_902Lgn-",
        "outputId": "e34fa94c-3661-40ac-a0ef-2b0a72808836",
        "colab": {
          "base_uri": "https://localhost:8080/",
          "height": 448
        }
      },
      "outputs": [
        {
          "output_type": "execute_result",
          "data": {
            "text/plain": [
              "<matplotlib.legend.Legend at 0x796bed186a70>"
            ]
          },
          "metadata": {},
          "execution_count": 13
        },
        {
          "output_type": "display_data",
          "data": {
            "text/plain": [
              "<Figure size 640x480 with 1 Axes>"
            ],
            "image/png": "[encoded data removed]"
          },
          "metadata": {}
        }
      ],
      "source": [
        "import matplotlib.pyplot as plt\n",
        "\n",
        "plt.plot(train_losses, label='train_losses')\n",
        "plt.plot(test_losses, label='test_losses')\n",
        "plt.legend()"
      ]
    },
    {
      "cell_type": "code",
      "execution_count": 14,
      "id": "794f4e81",
      "metadata": {
        "id": "794f4e81",
        "outputId": "72dcc2f0-f24c-4300-f483-3485b69ff002",
        "colab": {
          "base_uri": "https://localhost:8080/",
          "height": 452
        }
      },
      "outputs": [
        {
          "output_type": "execute_result",
          "data": {
            "text/plain": [
              "<matplotlib.legend.Legend at 0x796bdc1eb700>"
            ]
          },
          "metadata": {},
          "execution_count": 14
        },
        {
          "output_type": "display_data",
          "data": {
            "text/plain": [
              "<Figure size 640x480 with 1 Axes>"
            ],
            "image/png": "[encoded data removed]"
          },
          "metadata": {}
        }
      ],
      "source": [
        "import matplotlib.pyplot as plt\n",
        "\n",
        "plt.plot(train_accuracies, label='train_accuracy')\n",
        "plt.plot(test_accuracies, label='test_accuracy')\n",
        "plt.legend()"
      ]
    }
  ],
  "metadata": {
    "accelerator": "GPU",
    "colab": {
      "provenance": [],
      "include_colab_link": true
    },
    "gpuClass": "standard",
    "kernelspec": {
      "display_name": "Python 3 (ipykernel)",
      "language": "python",
      "name": "python3"
    },
    "language_info": {
      "codemirror_mode": {
        "name": "ipython",
        "version": 3
      },
      "file_extension": ".py",
      "mimetype": "text/x-python",
      "name": "python",
      "nbconvert_exporter": "python",
      "pygments_lexer": "ipython3",
      "version": "3.11.5"
    }
  },
  "nbformat": 4,
  "nbformat_minor": 5
}